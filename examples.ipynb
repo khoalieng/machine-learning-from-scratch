{
 "cells": [
  {
   "cell_type": "markdown",
   "metadata": {},
   "source": [
    "## Examples"
   ]
  },
  {
   "cell_type": "markdown",
   "metadata": {},
   "source": [
    "### Import packages"
   ]
  },
  {
   "cell_type": "code",
   "execution_count": 1,
   "metadata": {},
   "outputs": [],
   "source": [
    "from classification import knn, log_reg, naive_bayes, perceptron, svm, tree\n",
    "from regression import lin_reg\n",
    "from ensemble import bagging, random_forest\n",
    "from clustering import k_means\n",
    "from utils.model_selection import train_test_split\n",
    "from utils.metrics import accuracy_score, f1_score, mean_absolute_error\n",
    "from utils.preprocessing import StandardScaler\n",
    "from utils.misc import load_data\n",
    "from utils.misc import kmeans_plot  # optional: requires matplotlib"
   ]
  },
  {
   "cell_type": "code",
   "execution_count": 2,
   "metadata": {},
   "outputs": [],
   "source": [
    "breast_cancer = load_data(\"breast_cancer.csv\")  # log_reg, perceptron, svm, tree, random_forest, bagging\n",
    "iris = load_data(\"iris.csv\")  # knn, naive_bayes, tree, kmeans\n",
    "diabetes = load_data(\"diabetes.csv\")  # lin_reg"
   ]
  },
  {
   "cell_type": "markdown",
   "metadata": {},
   "source": [
    "### Binary classification"
   ]
  },
  {
   "cell_type": "code",
   "execution_count": 3,
   "metadata": {},
   "outputs": [
    {
     "name": "stdout",
     "output_type": "stream",
     "text": [
      "Number of samples: 455, number of features: 30\n"
     ]
    }
   ],
   "source": [
    "X, y = breast_cancer[\"features\"], breast_cancer[\"target\"]\n",
    "X_train, X_test, y_train, y_test = train_test_split(X, y, test_size=0.2, random_state=42)\n",
    "n_samples, n_features = len(X_train), len(X_train[0])\n",
    "print(f\"Number of samples: {n_samples}, number of features: {n_features}\")\n",
    "\n",
    "scaler = StandardScaler().fit(X_train)\n",
    "X_train_standard, X_test_standard = scaler.transform(X_train), scaler.transform(X_test)"
   ]
  },
  {
   "cell_type": "code",
   "execution_count": 4,
   "metadata": {},
   "outputs": [
    {
     "name": "stdout",
     "output_type": "stream",
     "text": [
      "Logistic regression classifier accuracy: 0.9474, f1 score: 0.9516\n"
     ]
    }
   ],
   "source": [
    "log_reg_clf = log_reg.LogisticRegression(lr=0.01, n_iters=100)\n",
    "y_pred = log_reg_clf.fit(X_train_standard, y_train).predict(X_test_standard)  # scale-sensitive\n",
    "\n",
    "print(f\"Logistic regression classifier accuracy: {accuracy_score(y_test, y_pred):.4f}, f1 score: {f1_score(y_test, y_pred):.4f}\")"
   ]
  },
  {
   "cell_type": "code",
   "execution_count": 5,
   "metadata": {},
   "outputs": [
    {
     "name": "stdout",
     "output_type": "stream",
     "text": [
      "Perceptron classifier accuracy: 0.9386, f1 score: 0.9440\n"
     ]
    }
   ],
   "source": [
    "perceptron_clf = perceptron.Perceptron(lr=0.01, n_iters=100)\n",
    "y_pred = perceptron_clf.fit(X_train_standard, y_train).predict(X_test_standard)  # scale-sensitive\n",
    "\n",
    "print(f\"Perceptron classifier accuracy: {accuracy_score(y_test, y_pred):.4f}, f1 score: {f1_score(y_test, y_pred):.4f}\")"
   ]
  },
  {
   "cell_type": "code",
   "execution_count": 6,
   "metadata": {},
   "outputs": [
    {
     "name": "stdout",
     "output_type": "stream",
     "text": [
      "SVM classifier accuracy: 0.9474, f1 score: 0.9516\n"
     ]
    }
   ],
   "source": [
    "svm_clf = svm.SVM(lr=0.01, lmbda=0.001, n_iters=100)\n",
    "y_pred = svm_clf.fit(X_train_standard, y_train).predict(X_test_standard)  # scale-sensitive\n",
    "\n",
    "print(f\"SVM classifier accuracy: {accuracy_score(y_test, y_pred):.4f}, f1 score: {f1_score(y_test, y_pred):.4f}\")"
   ]
  },
  {
   "cell_type": "code",
   "execution_count": 7,
   "metadata": {},
   "outputs": [
    {
     "name": "stdout",
     "output_type": "stream",
     "text": [
      "Tree classifier accuracy: 0.9298, f1 score: 0.9385\n"
     ]
    }
   ],
   "source": [
    "dt_clf = tree.DecisionTree(min_samples_split=2, max_depth=8, max_features=n_features, random_state=42)\n",
    "y_pred = dt_clf.fit(X_train, y_train).predict(X_test)  # scale-invariant\n",
    "\n",
    "print(f\"Tree classifier accuracy: {accuracy_score(y_test, y_pred):.4f}, f1 score: {f1_score(y_test, y_pred):.4f}\")"
   ]
  },
  {
   "cell_type": "code",
   "execution_count": 8,
   "metadata": {},
   "outputs": [
    {
     "name": "stdout",
     "output_type": "stream",
     "text": [
      "Random forest classifier accuracy: 0.9561, f1 score: 0.9612\n"
     ]
    }
   ],
   "source": [
    "rf_clf = random_forest.RandomForest(n_trees=20, \n",
    "                                    tree_params={\"max_depth\": 5, \"max_features\": int(n_features / 4)}, \n",
    "                                    random_state=42)\n",
    "y_pred = rf_clf.fit(X_train, y_train).predict(X_test)  # scale-invariant because of tree base estimator\n",
    "\n",
    "print(f\"Random forest classifier accuracy: {accuracy_score(y_test, y_pred):.4f}, f1 score: {f1_score(y_test, y_pred):.4f}\")"
   ]
  },
  {
   "cell_type": "code",
   "execution_count": 9,
   "metadata": {},
   "outputs": [
    {
     "name": "stdout",
     "output_type": "stream",
     "text": [
      "Bagging classifier accuracy: 0.9649, f1 score: 0.9692\n"
     ]
    }
   ],
   "source": [
    "bag_clf = bagging.Bagging(n_estimators=10, \n",
    "                          base_estimator=tree.DecisionTree,\n",
    "                          base_estimator_params={\"max_depth\": 5}, \n",
    "                          random_state=42)\n",
    "y_pred = bag_clf.fit(X_train_standard, y_train).predict(X_test_standard)  # scale-invariance depends on base estimator\n",
    "\n",
    "print(f\"Bagging classifier accuracy: {accuracy_score(y_test, y_pred):.4f}, f1 score: {f1_score(y_test, y_pred):.4f}\")"
   ]
  },
  {
   "cell_type": "markdown",
   "metadata": {},
   "source": [
    "### Multi-class classification"
   ]
  },
  {
   "cell_type": "code",
   "execution_count": 10,
   "metadata": {},
   "outputs": [
    {
     "name": "stdout",
     "output_type": "stream",
     "text": [
      "Number of samples: 120, number of features: 4\n"
     ]
    }
   ],
   "source": [
    "X, y = iris[\"features\"], iris[\"target\"]\n",
    "X_train, X_test, y_train, y_test = train_test_split(X, y, test_size=0.2, random_state=42)\n",
    "n_samples, n_features = len(X_train), len(X_train[0])\n",
    "print(f\"Number of samples: {n_samples}, number of features: {n_features}\")\n",
    "\n",
    "scaler = StandardScaler().fit(X_train)\n",
    "X_train_standard, X_test_standard = scaler.transform(X_train), scaler.transform(X_test)"
   ]
  },
  {
   "cell_type": "code",
   "execution_count": 11,
   "metadata": {},
   "outputs": [
    {
     "name": "stdout",
     "output_type": "stream",
     "text": [
      "Naive Bayes multi-class classifier accuracy: 0.9667\n"
     ]
    }
   ],
   "source": [
    "nb_clf = naive_bayes.NaiveBayes()\n",
    "y_pred = nb_clf.fit(X_train, y_train).predict(X_test)  # scale-invariant\n",
    "\n",
    "print(f\"Naive Bayes multi-class classifier accuracy: {accuracy_score(y_test, y_pred):.4f}\")"
   ]
  },
  {
   "cell_type": "code",
   "execution_count": 12,
   "metadata": {},
   "outputs": [
    {
     "name": "stdout",
     "output_type": "stream",
     "text": [
      "KNN multi-class classifier accuracy: 0.9667\n"
     ]
    }
   ],
   "source": [
    "knn_clf = knn.KNN(k=5)\n",
    "y_pred = knn_clf.fit(X_train_standard, y_train).predict(X_test_standard)  # scale-sensitive (due to distance metric)\n",
    "\n",
    "print(f\"KNN multi-class classifier accuracy: {accuracy_score(y_test, y_pred):.4f}\")"
   ]
  },
  {
   "cell_type": "code",
   "execution_count": 13,
   "metadata": {},
   "outputs": [
    {
     "name": "stdout",
     "output_type": "stream",
     "text": [
      "Tree multi-class classifier accuracy: 0.8667\n"
     ]
    }
   ],
   "source": [
    "dt_clf = tree.DecisionTree(min_samples_split=2, max_depth=8, max_features=2, random_state=42)\n",
    "y_pred = dt_clf.fit(X_train, y_train).predict(X_test)  # scale-invariant\n",
    "\n",
    "print(f\"Tree multi-class classifier accuracy: {accuracy_score(y_test, y_pred):.4f}\")"
   ]
  },
  {
   "cell_type": "code",
   "execution_count": 14,
   "metadata": {},
   "outputs": [
    {
     "name": "stdout",
     "output_type": "stream",
     "text": [
      "Random forest multi-class classifier accuracy: 0.9667\n"
     ]
    }
   ],
   "source": [
    "rf_clf = random_forest.RandomForest(n_trees=20, \n",
    "                                    tree_params={\"max_depth\": 5, \"max_features\": 3}, \n",
    "                                    random_state=42)\n",
    "y_pred = rf_clf.fit(X_train, y_train).predict(X_test)  # scale-invariant\n",
    "\n",
    "print(f\"Random forest multi-class classifier accuracy: {accuracy_score(y_test, y_pred):.4f}\")"
   ]
  },
  {
   "cell_type": "markdown",
   "metadata": {},
   "source": [
    "### Clustering"
   ]
  },
  {
   "cell_type": "code",
   "execution_count": 15,
   "metadata": {},
   "outputs": [],
   "source": [
    "X_train_standard_2d, X_test_standard_2d = [x[:2] for x in X_train_standard], [x[:2] for x in X_test_standard]"
   ]
  },
  {
   "cell_type": "code",
   "execution_count": 16,
   "metadata": {},
   "outputs": [
    {
     "name": "stdout",
     "output_type": "stream",
     "text": [
      "[0, 1, 0, 2, 1, 2, 2, 1, 2, 2, 0, 0, 0, 0, 0, 2, 2, 1, 1, 1, 2, 1, 0, 1, 1, 2, 2, 2, 1, 1]\n"
     ]
    },
    {
     "data": {
      "image/png": "[encoded data removed]",
      "text/plain": [
       "<Figure size 800x500 with 1 Axes>"
      ]
     },
     "metadata": {},
     "output_type": "display_data"
    }
   ],
   "source": [
    "kmeans = k_means.KMeans(k=3, random_state=42)\n",
    "y_pred, clusters, centroids = kmeans.fit(X_train_standard_2d).predict(X_test_standard_2d)  # scale-sensitive (due to distance metric)\n",
    "print(y_pred)\n",
    "kmeans_plot(X_test_standard_2d, clusters, centroids)  # optional: requires matplotlib"
   ]
  },
  {
   "cell_type": "markdown",
   "metadata": {},
   "source": [
    "### Regression"
   ]
  },
  {
   "cell_type": "code",
   "execution_count": 17,
   "metadata": {},
   "outputs": [
    {
     "name": "stdout",
     "output_type": "stream",
     "text": [
      "Number of samples: 353, number of features: 10\n"
     ]
    }
   ],
   "source": [
    "X, y = diabetes[\"features\"], diabetes[\"target\"]\n",
    "X_train, X_test, y_train, y_test = train_test_split(X, y, test_size=0.2, random_state=42)\n",
    "n_samples, n_features = len(X_train), len(X_train[0])\n",
    "print(f\"Number of samples: {n_samples}, number of features: {n_features}\")\n",
    "\n",
    "scaler = StandardScaler().fit(X_train)\n",
    "X_train_standard, X_test_standard = scaler.transform(X_train), scaler.transform(X_test)"
   ]
  },
  {
   "cell_type": "code",
   "execution_count": 18,
   "metadata": {},
   "outputs": [
    {
     "name": "stdout",
     "output_type": "stream",
     "text": [
      "Linear regression MAE: 44.8476, relative MAE: 0.2799\n"
     ]
    }
   ],
   "source": [
    "lr_reg = lin_reg.LinearRegression(lr=0.01, n_iters=1_000)\n",
    "y_pred = lr_reg.fit(X_train_standard, y_train).predict(X_test_standard)  # scale-sensitive\n",
    "\n",
    "mae = mean_absolute_error(y_test, y_pred)\n",
    "mean_y_test = (sum(y_test) / len(y_test))\n",
    "print(f\"Linear regression MAE: {mae:.4f}, relative MAE: {mae / mean_y_test:.4f}\")"
   ]
  },
  {
   "cell_type": "code",
   "execution_count": null,
   "metadata": {},
   "outputs": [],
   "source": []
  }
 ],
 "metadata": {
  "kernelspec": {
   "display_name": "general",
   "language": "python",
   "name": "python3"
  },
  "language_info": {
   "codemirror_mode": {
    "name": "ipython",
    "version": 3
   },
   "file_extension": ".py",
   "mimetype": "text/x-python",
   "name": "python",
   "nbconvert_exporter": "python",
   "pygments_lexer": "ipython3",
   "version": "3.12.3"
  }
 },
 "nbformat": 4,
 "nbformat_minor": 2
}
